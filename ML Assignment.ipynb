{
 "cells": [
  {
   "cell_type": "code",
   "execution_count": 65,
   "metadata": {},
   "outputs": [
    {
     "name": "stdout",
     "output_type": "stream",
     "text": [
      "Requirement already satisfied: imbalanced-learn in c:\\users\\shivam\\appdata\\local\\programs\\python\\python37\\lib\\site-packages (0.6.2)\n",
      "Requirement already satisfied: joblib>=0.11 in c:\\users\\shivam\\appdata\\local\\programs\\python\\python37\\lib\\site-packages (from imbalanced-learn) (0.14.1)\n",
      "Requirement already satisfied: scipy>=0.17 in c:\\users\\shivam\\appdata\\local\\programs\\python\\python37\\lib\\site-packages (from imbalanced-learn) (1.4.1)\n",
      "Requirement already satisfied: scikit-learn>=0.22 in c:\\users\\shivam\\appdata\\local\\programs\\python\\python37\\lib\\site-packages (from imbalanced-learn) (0.22.1)\n",
      "Requirement already satisfied: numpy>=1.11 in c:\\users\\shivam\\appdata\\local\\programs\\python\\python37\\lib\\site-packages (from imbalanced-learn) (1.18.1)\n",
      "Note: you may need to restart the kernel to use updated packages.\n"
     ]
    },
    {
     "name": "stderr",
     "output_type": "stream",
     "text": [
      "WARNING: You are using pip version 20.0.2; however, version 20.1 is available.\n",
      "You should consider upgrading via the 'c:\\users\\shivam\\appdata\\local\\programs\\python\\python37\\python.exe -m pip install --upgrade pip' command.\n"
     ]
    }
   ],
   "source": [
    "#installing to balance the imbalance datasets\n",
    "pip install imbalanced-learn"
   ]
  },
  {
   "cell_type": "code",
   "execution_count": 66,
   "metadata": {},
   "outputs": [
    {
     "name": "stdout",
     "output_type": "stream",
     "text": [
      "Requirement already satisfied: seaborn in c:\\users\\shivam\\appdata\\local\\programs\\python\\python37\\lib\\site-packages (0.10.1)\n",
      "Requirement already satisfied: scipy>=1.0.1 in c:\\users\\shivam\\appdata\\local\\programs\\python\\python37\\lib\\site-packages (from seaborn) (1.4.1)\n",
      "Requirement already satisfied: numpy>=1.13.3 in c:\\users\\shivam\\appdata\\local\\programs\\python\\python37\\lib\\site-packages (from seaborn) (1.18.1)\n",
      "Requirement already satisfied: matplotlib>=2.1.2 in c:\\users\\shivam\\appdata\\local\\programs\\python\\python37\\lib\\site-packages (from seaborn) (3.1.3)\n",
      "Requirement already satisfied: pandas>=0.22.0 in c:\\users\\shivam\\appdata\\local\\programs\\python\\python37\\lib\\site-packages (from seaborn) (1.0.3)\n",
      "Requirement already satisfied: kiwisolver>=1.0.1 in c:\\users\\shivam\\appdata\\local\\programs\\python\\python37\\lib\\site-packages (from matplotlib>=2.1.2->seaborn) (1.1.0)\n",
      "Requirement already satisfied: cycler>=0.10 in c:\\users\\shivam\\appdata\\local\\programs\\python\\python37\\lib\\site-packages (from matplotlib>=2.1.2->seaborn) (0.10.0)\n",
      "Requirement already satisfied: python-dateutil>=2.1 in c:\\users\\shivam\\appdata\\local\\programs\\python\\python37\\lib\\site-packages (from matplotlib>=2.1.2->seaborn) (2.8.1)\n",
      "Requirement already satisfied: pyparsing!=2.0.4,!=2.1.2,!=2.1.6,>=2.0.1 in c:\\users\\shivam\\appdata\\local\\programs\\python\\python37\\lib\\site-packages (from matplotlib>=2.1.2->seaborn) (2.4.6)\n",
      "Requirement already satisfied: pytz>=2017.2 in c:\\users\\shivam\\appdata\\local\\programs\\python\\python37\\lib\\site-packages (from pandas>=0.22.0->seaborn) (2020.1)\n",
      "Requirement already satisfied: setuptools in c:\\users\\shivam\\appdata\\local\\programs\\python\\python37\\lib\\site-packages (from kiwisolver>=1.0.1->matplotlib>=2.1.2->seaborn) (41.2.0)\n",
      "Requirement already satisfied: six in c:\\users\\shivam\\appdata\\local\\programs\\python\\python37\\lib\\site-packages (from cycler>=0.10->matplotlib>=2.1.2->seaborn) (1.14.0)\n",
      "Note: you may need to restart the kernel to use updated packages.\n"
     ]
    },
    {
     "name": "stderr",
     "output_type": "stream",
     "text": [
      "WARNING: You are using pip version 20.0.2; however, version 20.1 is available.\n",
      "You should consider upgrading via the 'c:\\users\\shivam\\appdata\\local\\programs\\python\\python37\\python.exe -m pip install --upgrade pip' command.\n"
     ]
    }
   ],
   "source": [
    "#For Statistical plots\n",
    "pip install seaborn"
   ]
  },
  {
   "cell_type": "code",
   "execution_count": 67,
   "metadata": {},
   "outputs": [
    {
     "name": "stdout",
     "output_type": "stream",
     "text": [
      "Requirement already satisfied: xgboost in c:\\users\\shivam\\appdata\\local\\programs\\python\\python37\\lib\\site-packages (1.0.2)\n",
      "Requirement already satisfied: numpy in c:\\users\\shivam\\appdata\\local\\programs\\python\\python37\\lib\\site-packages (from xgboost) (1.18.1)\n",
      "Requirement already satisfied: scipy in c:\\users\\shivam\\appdata\\local\\programs\\python\\python37\\lib\\site-packages (from xgboost) (1.4.1)\n",
      "Note: you may need to restart the kernel to use updated packages.\n"
     ]
    },
    {
     "name": "stderr",
     "output_type": "stream",
     "text": [
      "WARNING: You are using pip version 20.0.2; however, version 20.1 is available.\n",
      "You should consider upgrading via the 'c:\\users\\shivam\\appdata\\local\\programs\\python\\python37\\python.exe -m pip install --upgrade pip' command.\n"
     ]
    }
   ],
   "source": [
    "#installing for Gradient boosting algorithm impementation\n",
    "pip install xgboost"
   ]
  },
  {
   "cell_type": "code",
   "execution_count": 101,
   "metadata": {},
   "outputs": [],
   "source": [
    "#importing all required packages \n",
    "import numpy as np\n",
    "import pandas as pd\n",
    "import matplotlib.pyplot as plt\n",
    "import seaborn as sns\n",
    "\n",
    "import os\n",
    "import random\n",
    "import imblearn\n",
    "\n",
    "from collections import Counter\n",
    "\n",
    "from sklearn.model_selection import train_test_split\n",
    "from sklearn.ensemble import RandomForestClassifier\n",
    "from subprocess import check_output\n",
    "from sklearn.metrics import confusion_matrix\n",
    "from sklearn.neighbors import KNeighborsClassifier\n",
    "\n",
    "from imblearn.over_sampling import SMOTE\n",
    "from imblearn.over_sampling import RandomOverSampler\n",
    "\n",
    "from sklearn.metrics import f1_score"
   ]
  },
  {
   "cell_type": "code",
   "execution_count": 69,
   "metadata": {},
   "outputs": [],
   "source": [
    "df = pd.read_csv('E:/TUD Course Content/Sem-2/Machine Learning/Assign#2/datasets/employee-attrition-data/MFG10YearTerminationData.csv')"
   ]
  },
  {
   "cell_type": "code",
   "execution_count": 70,
   "metadata": {},
   "outputs": [
    {
     "data": {
      "text/html": [
       "<div>\n",
       "<style scoped>\n",
       "    .dataframe tbody tr th:only-of-type {\n",
       "        vertical-align: middle;\n",
       "    }\n",
       "\n",
       "    .dataframe tbody tr th {\n",
       "        vertical-align: top;\n",
       "    }\n",
       "\n",
       "    .dataframe thead th {\n",
       "        text-align: right;\n",
       "    }\n",
       "</style>\n",
       "<table border=\"1\" class=\"dataframe\">\n",
       "  <thead>\n",
       "    <tr style=\"text-align: right;\">\n",
       "      <th></th>\n",
       "      <th>EmployeeID</th>\n",
       "      <th>recorddate_key</th>\n",
       "      <th>birthdate_key</th>\n",
       "      <th>orighiredate_key</th>\n",
       "      <th>terminationdate_key</th>\n",
       "      <th>age</th>\n",
       "      <th>length_of_service</th>\n",
       "      <th>city_name</th>\n",
       "      <th>department_name</th>\n",
       "      <th>job_title</th>\n",
       "      <th>store_name</th>\n",
       "      <th>gender_short</th>\n",
       "      <th>gender_full</th>\n",
       "      <th>termreason_desc</th>\n",
       "      <th>termtype_desc</th>\n",
       "      <th>STATUS_YEAR</th>\n",
       "      <th>STATUS</th>\n",
       "      <th>BUSINESS_UNIT</th>\n",
       "    </tr>\n",
       "  </thead>\n",
       "  <tbody>\n",
       "    <tr>\n",
       "      <th>0</th>\n",
       "      <td>1318</td>\n",
       "      <td>12/31/2006 0:00</td>\n",
       "      <td>1/3/1954</td>\n",
       "      <td>8/28/1989</td>\n",
       "      <td>1/1/1900</td>\n",
       "      <td>52</td>\n",
       "      <td>17</td>\n",
       "      <td>Vancouver</td>\n",
       "      <td>Executive</td>\n",
       "      <td>CEO</td>\n",
       "      <td>35</td>\n",
       "      <td>M</td>\n",
       "      <td>Male</td>\n",
       "      <td>Not Applicable</td>\n",
       "      <td>Not Applicable</td>\n",
       "      <td>2006</td>\n",
       "      <td>ACTIVE</td>\n",
       "      <td>HEADOFFICE</td>\n",
       "    </tr>\n",
       "    <tr>\n",
       "      <th>1</th>\n",
       "      <td>1318</td>\n",
       "      <td>12/31/2007 0:00</td>\n",
       "      <td>1/3/1954</td>\n",
       "      <td>8/28/1989</td>\n",
       "      <td>1/1/1900</td>\n",
       "      <td>53</td>\n",
       "      <td>18</td>\n",
       "      <td>Vancouver</td>\n",
       "      <td>Executive</td>\n",
       "      <td>CEO</td>\n",
       "      <td>35</td>\n",
       "      <td>M</td>\n",
       "      <td>Male</td>\n",
       "      <td>Not Applicable</td>\n",
       "      <td>Not Applicable</td>\n",
       "      <td>2007</td>\n",
       "      <td>ACTIVE</td>\n",
       "      <td>HEADOFFICE</td>\n",
       "    </tr>\n",
       "    <tr>\n",
       "      <th>2</th>\n",
       "      <td>1318</td>\n",
       "      <td>12/31/2008 0:00</td>\n",
       "      <td>1/3/1954</td>\n",
       "      <td>8/28/1989</td>\n",
       "      <td>1/1/1900</td>\n",
       "      <td>54</td>\n",
       "      <td>19</td>\n",
       "      <td>Vancouver</td>\n",
       "      <td>Executive</td>\n",
       "      <td>CEO</td>\n",
       "      <td>35</td>\n",
       "      <td>M</td>\n",
       "      <td>Male</td>\n",
       "      <td>Not Applicable</td>\n",
       "      <td>Not Applicable</td>\n",
       "      <td>2008</td>\n",
       "      <td>ACTIVE</td>\n",
       "      <td>HEADOFFICE</td>\n",
       "    </tr>\n",
       "    <tr>\n",
       "      <th>3</th>\n",
       "      <td>1318</td>\n",
       "      <td>12/31/2009 0:00</td>\n",
       "      <td>1/3/1954</td>\n",
       "      <td>8/28/1989</td>\n",
       "      <td>1/1/1900</td>\n",
       "      <td>55</td>\n",
       "      <td>20</td>\n",
       "      <td>Vancouver</td>\n",
       "      <td>Executive</td>\n",
       "      <td>CEO</td>\n",
       "      <td>35</td>\n",
       "      <td>M</td>\n",
       "      <td>Male</td>\n",
       "      <td>Not Applicable</td>\n",
       "      <td>Not Applicable</td>\n",
       "      <td>2009</td>\n",
       "      <td>ACTIVE</td>\n",
       "      <td>HEADOFFICE</td>\n",
       "    </tr>\n",
       "    <tr>\n",
       "      <th>4</th>\n",
       "      <td>1318</td>\n",
       "      <td>12/31/2010 0:00</td>\n",
       "      <td>1/3/1954</td>\n",
       "      <td>8/28/1989</td>\n",
       "      <td>1/1/1900</td>\n",
       "      <td>56</td>\n",
       "      <td>21</td>\n",
       "      <td>Vancouver</td>\n",
       "      <td>Executive</td>\n",
       "      <td>CEO</td>\n",
       "      <td>35</td>\n",
       "      <td>M</td>\n",
       "      <td>Male</td>\n",
       "      <td>Not Applicable</td>\n",
       "      <td>Not Applicable</td>\n",
       "      <td>2010</td>\n",
       "      <td>ACTIVE</td>\n",
       "      <td>HEADOFFICE</td>\n",
       "    </tr>\n",
       "  </tbody>\n",
       "</table>\n",
       "</div>"
      ],
      "text/plain": [
       "   EmployeeID   recorddate_key birthdate_key orighiredate_key  \\\n",
       "0        1318  12/31/2006 0:00      1/3/1954        8/28/1989   \n",
       "1        1318  12/31/2007 0:00      1/3/1954        8/28/1989   \n",
       "2        1318  12/31/2008 0:00      1/3/1954        8/28/1989   \n",
       "3        1318  12/31/2009 0:00      1/3/1954        8/28/1989   \n",
       "4        1318  12/31/2010 0:00      1/3/1954        8/28/1989   \n",
       "\n",
       "  terminationdate_key  age  length_of_service  city_name department_name  \\\n",
       "0            1/1/1900   52                 17  Vancouver       Executive   \n",
       "1            1/1/1900   53                 18  Vancouver       Executive   \n",
       "2            1/1/1900   54                 19  Vancouver       Executive   \n",
       "3            1/1/1900   55                 20  Vancouver       Executive   \n",
       "4            1/1/1900   56                 21  Vancouver       Executive   \n",
       "\n",
       "  job_title  store_name gender_short gender_full termreason_desc  \\\n",
       "0       CEO          35            M        Male  Not Applicable   \n",
       "1       CEO          35            M        Male  Not Applicable   \n",
       "2       CEO          35            M        Male  Not Applicable   \n",
       "3       CEO          35            M        Male  Not Applicable   \n",
       "4       CEO          35            M        Male  Not Applicable   \n",
       "\n",
       "    termtype_desc  STATUS_YEAR  STATUS BUSINESS_UNIT  \n",
       "0  Not Applicable         2006  ACTIVE    HEADOFFICE  \n",
       "1  Not Applicable         2007  ACTIVE    HEADOFFICE  \n",
       "2  Not Applicable         2008  ACTIVE    HEADOFFICE  \n",
       "3  Not Applicable         2009  ACTIVE    HEADOFFICE  \n",
       "4  Not Applicable         2010  ACTIVE    HEADOFFICE  "
      ]
     },
     "execution_count": 70,
     "metadata": {},
     "output_type": "execute_result"
    }
   ],
   "source": [
    "df.head()"
   ]
  },
  {
   "cell_type": "code",
   "execution_count": 71,
   "metadata": {},
   "outputs": [
    {
     "data": {
      "text/plain": [
       "Meat Cutter                        9984\n",
       "Dairy Person                       8590\n",
       "Produce Clerk                      8237\n",
       "Baker                              8096\n",
       "Cashier                            6816\n",
       "Shelf Stocker                      5622\n",
       "Customer Service Manager            306\n",
       "Processed Foods Manager             289\n",
       "Bakery Manager                      285\n",
       "Meats Manager                       285\n",
       "Produce Manager                     278\n",
       "Store Manager                       271\n",
       "Recruiter                            62\n",
       "HRIS Analyst                         55\n",
       "Accounting Clerk                     50\n",
       "Benefits Admin                       35\n",
       "Labor Relations Analyst              30\n",
       "Accounts Receiveable Clerk           30\n",
       "Trainer                              26\n",
       "Accounts Payable Clerk               25\n",
       "Compensation Analyst                 20\n",
       "Systems Analyst                      20\n",
       "Auditor                              20\n",
       "Investment Analyst                   20\n",
       "Corporate Lawyer                     17\n",
       "Legal Counsel                        10\n",
       "CHief Information Officer            10\n",
       "Exec Assistant, Finance              10\n",
       "Exec Assistant, VP Stores            10\n",
       "Exec Assistant, Legal Counsel        10\n",
       "CEO                                  10\n",
       "Director, Recruitment                10\n",
       "VP Human Resources                   10\n",
       "VP Finance                           10\n",
       "Exec Assistant, Human Resources      10\n",
       "VP Stores                            10\n",
       "Director, Accounts Receivable         9\n",
       "Dairy Manager                         9\n",
       "Director, Accounts Payable            9\n",
       "Director, HR Technology               9\n",
       "Director, Employee Records            9\n",
       "Director, Accounting                  9\n",
       "Director, Investments                 4\n",
       "Director, Compensation                4\n",
       "Director, Training                    4\n",
       "Director, Labor Relations             4\n",
       "Director, Audit                       4\n",
       "Name: job_title, dtype: int64"
      ]
     },
     "execution_count": 71,
     "metadata": {},
     "output_type": "execute_result"
    }
   ],
   "source": [
    "df.job_title.value_counts()"
   ]
  },
  {
   "cell_type": "code",
   "execution_count": 72,
   "metadata": {},
   "outputs": [
    {
     "name": "stdout",
     "output_type": "stream",
     "text": [
      "Total jobs categorised: 47 out of 47\n"
     ]
    }
   ],
   "source": [
    "# The 47 jobs can be separated according to corporate hierarchy\n",
    "# Use employee, manager, and combined executives and board \n",
    "employee = ['Meat Cutter', 'Dairy Person', 'Produce Clerk', 'Baker', 'Cashier',\n",
    "            'Shelf Stocker', 'Recruiter', 'HRIS Analyst', 'Accounting Clerk',\n",
    "            'Benefits Admin', 'Labor Relations Analyst', 'Accounts Receiveable Clerk',\n",
    "            'Accounts Payable Clerk', 'Auditor', 'Compensation Analyst',\n",
    "            'Investment Analyst', 'Systems Analyst', 'Corporate Lawyer', 'Legal Counsel']\n",
    "\n",
    "manager = ['Customer Service Manager', 'Processed Foods Manager', 'Meats Manager',\n",
    "           'Bakery Manager', 'Produce Manager', 'Store Manager', 'Trainer', 'Dairy Manager']\n",
    "\n",
    "executive = ['Exec Assistant, Finance', 'Exec Assistant, Legal Counsel',\n",
    "             'CHief Information Officer', 'CEO', 'Exec Assistant, Human Resources',\n",
    "             'Exec Assistant, VP Stores']\n",
    "\n",
    "board = ['VP Stores', 'Director, Recruitment', 'VP Human Resources', 'VP Finance',\n",
    "         'Director, Accounts Receivable', 'Director, Accounting',\n",
    "         'Director, Employee Records', 'Director, Accounts Payable',\n",
    "         'Director, HR Technology', 'Director, Investments',\n",
    "         'Director, Labor Relations', 'Director, Audit', 'Director, Training',\n",
    "         'Director, Compensation']\n",
    "\n",
    "# Check all jobs were entered into the categories\n",
    "total = len(employee) + len(manager) + len(executive) + len(board)\n",
    "print('Total jobs categorised:', total, 'out of 47')"
   ]
  },
  {
   "cell_type": "code",
   "execution_count": 73,
   "metadata": {},
   "outputs": [],
   "source": [
    "df['Hierarchy'] = df.job_title"
   ]
  },
  {
   "cell_type": "code",
   "execution_count": 74,
   "metadata": {},
   "outputs": [],
   "source": [
    "#Defining the hierarchy of the jobs according to their position in organization\n",
    "df.Hierarchy = df.Hierarchy.replace(employee, 0)\n",
    "df.Hierarchy = df.Hierarchy.replace(manager, 1)\n",
    "df.Hierarchy = df.Hierarchy.replace(executive, 2)\n",
    "df.Hierarchy = df.Hierarchy.replace(board, 3)"
   ]
  },
  {
   "cell_type": "code",
   "execution_count": 75,
   "metadata": {},
   "outputs": [
    {
     "name": "stdout",
     "output_type": "stream",
     "text": [
      "Total departments categorised: 21 out of 21\n"
     ]
    }
   ],
   "source": [
    "# The departments can be separated according to whether they serve the customer or the business\n",
    "serve_cus = ['Meats', 'Dairy', 'Produce', 'Bakery', 'Customer Service', 'Processed Foods']\n",
    "\n",
    "serve_biz = ['Store Management', 'Executive', 'Recruitment', 'HR Technology',\n",
    "             'Accounting', 'Employee Records', 'Accounts Receiveable',\n",
    "             'Accounts Payable', 'Labor Relations', 'Training', 'Compensation',\n",
    "             'Audit', 'Investment', 'Information Technology', 'Legal']\n",
    "\n",
    "# Check all departments were entered into the categories\n",
    "total = len(serve_cus) + len(serve_biz)\n",
    "print('Total departments categorised:', total, 'out of 21')"
   ]
  },
  {
   "cell_type": "code",
   "execution_count": 76,
   "metadata": {},
   "outputs": [],
   "source": [
    "df['Service_to'] = df.department_name\n",
    "\n",
    "# Replace the department names in Service_to\n",
    "df.Service_to = df.Service_to.replace(serve_cus, 'Customer')\n",
    "df.Service_to = df.Service_to.replace(serve_biz, 'Business')"
   ]
  },
  {
   "cell_type": "code",
   "execution_count": 77,
   "metadata": {},
   "outputs": [
    {
     "data": {
      "text/plain": [
       "Customer    48797\n",
       "Business      856\n",
       "Name: Service_to, dtype: int64"
      ]
     },
     "execution_count": 77,
     "metadata": {},
     "output_type": "execute_result"
    }
   ],
   "source": [
    "df.Service_to.value_counts()"
   ]
  },
  {
   "cell_type": "code",
   "execution_count": 78,
   "metadata": {},
   "outputs": [],
   "source": [
    "# Convert TARGET VARIABLE from string to numerical\n",
    "df.STATUS = df.STATUS.map({'ACTIVE':1, 'TERMINATED':0})"
   ]
  },
  {
   "cell_type": "code",
   "execution_count": 79,
   "metadata": {},
   "outputs": [],
   "source": [
    "# Data visualisation\n",
    "# Separate data to avoid one excessively overlapping the other in plots.\n",
    "# One set for the terminated (out of company) and working (in company)\n",
    "\n",
    "out_of_company = df[df.STATUS == 0]\n",
    "in_company = df[df.STATUS == 1]"
   ]
  },
  {
   "cell_type": "code",
   "execution_count": 80,
   "metadata": {},
   "outputs": [
    {
     "data": {
      "text/plain": [
       "<matplotlib.axes._subplots.AxesSubplot at 0x2410c9620c8>"
      ]
     },
     "execution_count": 80,
     "metadata": {},
     "output_type": "execute_result"
    },
    {
     "data": {
      "image/png": "[encoded data removed]",
      "text/plain": [
       "<Figure size 432x288 with 1 Axes>"
      ]
     },
     "metadata": {
      "needs_background": "light"
     },
     "output_type": "display_data"
    }
   ],
   "source": [
    "# Out of interest, look at number of terminations per year. Count terminations per year\n",
    "\n",
    "term_per_year = Counter(out_of_company.STATUS_YEAR)\n",
    "term_per_year_df = pd.DataFrame.from_dict(term_per_year, orient='index')\n",
    "term_per_year_df = term_per_year_df.sort_index()\n",
    "term_per_year_df.plot(kind='bar')"
   ]
  },
  {
   "cell_type": "code",
   "execution_count": 81,
   "metadata": {},
   "outputs": [
    {
     "data": {
      "image/png": "[encoded data removed]",
      "text/plain": [
       "<Figure size 440x648 with 6 Axes>"
      ]
     },
     "metadata": {
      "needs_background": "light"
     },
     "output_type": "display_data"
    }
   ],
   "source": [
    "# When someone leaves the company, look at their age, length of service, and position in hierarchy. Separated by gender\n",
    "\n",
    "g = sns.FacetGrid(out_of_company, col='gender_short', row='Hierarchy', palette='Set1_r', \n",
    "                   margin_titles=True)\n",
    "g = (g.map(plt.scatter, 'age', 'length_of_service').add_legend())"
   ]
  },
  {
   "cell_type": "code",
   "execution_count": 82,
   "metadata": {
    "scrolled": true
   },
   "outputs": [
    {
     "data": {
      "image/png": "[encoded data removed]",
      "text/plain": [
       "<Figure size 440x648 with 6 Axes>"
      ]
     },
     "metadata": {
      "needs_background": "light"
     },
     "output_type": "display_data"
    }
   ],
   "source": [
    "#Look at when termination is voluntary or involuntary\n",
    "g = sns.FacetGrid(out_of_company, col='termtype_desc', row='termreason_desc', palette='Set1_r', \n",
    "                   margin_titles=True)\n",
    "g = (g.map(plt.scatter, 'age', 'length_of_service').add_legend())"
   ]
  },
  {
   "cell_type": "code",
   "execution_count": 83,
   "metadata": {},
   "outputs": [
    {
     "data": {
      "image/png": "[encoded data removed]",
      "text/plain": [
       "<Figure size 432x432 with 3 Axes>"
      ]
     },
     "metadata": {
      "needs_background": "light"
     },
     "output_type": "display_data"
    }
   ],
   "source": [
    "# Figuring out the people leaving the company at what age and after what length of service.\n",
    "g = sns.jointplot(out_of_company.age, out_of_company.length_of_service, color='r')"
   ]
  },
  {
   "cell_type": "markdown",
   "metadata": {},
   "source": [
    "## Section up until here was EDA part trying to explore the existing kernels' work\n",
    "## Part following, we will work with our own concept to understand and implement the models."
   ]
  },
  {
   "cell_type": "code",
   "execution_count": 84,
   "metadata": {},
   "outputs": [],
   "source": [
    "#Feature selection\n",
    "#dropping undesired columns\n",
    "drop_cols = ['EmployeeID', 'recorddate_key', 'birthdate_key', 'orighiredate_key',\n",
    "             'terminationdate_key', 'gender_full', 'termreason_desc', 'department_name',\n",
    "             'termtype_desc', 'STATUS_YEAR', 'job_title']\n",
    "\n",
    "df = df.drop(drop_cols, axis=1)"
   ]
  },
  {
   "cell_type": "code",
   "execution_count": 85,
   "metadata": {},
   "outputs": [
    {
     "data": {
      "text/html": [
       "<div>\n",
       "<style scoped>\n",
       "    .dataframe tbody tr th:only-of-type {\n",
       "        vertical-align: middle;\n",
       "    }\n",
       "\n",
       "    .dataframe tbody tr th {\n",
       "        vertical-align: top;\n",
       "    }\n",
       "\n",
       "    .dataframe thead th {\n",
       "        text-align: right;\n",
       "    }\n",
       "</style>\n",
       "<table border=\"1\" class=\"dataframe\">\n",
       "  <thead>\n",
       "    <tr style=\"text-align: right;\">\n",
       "      <th></th>\n",
       "      <th>age</th>\n",
       "      <th>length_of_service</th>\n",
       "      <th>city_name</th>\n",
       "      <th>store_name</th>\n",
       "      <th>gender_short</th>\n",
       "      <th>STATUS</th>\n",
       "      <th>BUSINESS_UNIT</th>\n",
       "      <th>Hierarchy</th>\n",
       "      <th>Service_to</th>\n",
       "    </tr>\n",
       "  </thead>\n",
       "  <tbody>\n",
       "    <tr>\n",
       "      <th>0</th>\n",
       "      <td>52</td>\n",
       "      <td>17</td>\n",
       "      <td>Vancouver</td>\n",
       "      <td>35</td>\n",
       "      <td>M</td>\n",
       "      <td>1</td>\n",
       "      <td>HEADOFFICE</td>\n",
       "      <td>2</td>\n",
       "      <td>Business</td>\n",
       "    </tr>\n",
       "    <tr>\n",
       "      <th>1</th>\n",
       "      <td>53</td>\n",
       "      <td>18</td>\n",
       "      <td>Vancouver</td>\n",
       "      <td>35</td>\n",
       "      <td>M</td>\n",
       "      <td>1</td>\n",
       "      <td>HEADOFFICE</td>\n",
       "      <td>2</td>\n",
       "      <td>Business</td>\n",
       "    </tr>\n",
       "    <tr>\n",
       "      <th>2</th>\n",
       "      <td>54</td>\n",
       "      <td>19</td>\n",
       "      <td>Vancouver</td>\n",
       "      <td>35</td>\n",
       "      <td>M</td>\n",
       "      <td>1</td>\n",
       "      <td>HEADOFFICE</td>\n",
       "      <td>2</td>\n",
       "      <td>Business</td>\n",
       "    </tr>\n",
       "    <tr>\n",
       "      <th>3</th>\n",
       "      <td>55</td>\n",
       "      <td>20</td>\n",
       "      <td>Vancouver</td>\n",
       "      <td>35</td>\n",
       "      <td>M</td>\n",
       "      <td>1</td>\n",
       "      <td>HEADOFFICE</td>\n",
       "      <td>2</td>\n",
       "      <td>Business</td>\n",
       "    </tr>\n",
       "    <tr>\n",
       "      <th>4</th>\n",
       "      <td>56</td>\n",
       "      <td>21</td>\n",
       "      <td>Vancouver</td>\n",
       "      <td>35</td>\n",
       "      <td>M</td>\n",
       "      <td>1</td>\n",
       "      <td>HEADOFFICE</td>\n",
       "      <td>2</td>\n",
       "      <td>Business</td>\n",
       "    </tr>\n",
       "  </tbody>\n",
       "</table>\n",
       "</div>"
      ],
      "text/plain": [
       "   age  length_of_service  city_name  store_name gender_short  STATUS  \\\n",
       "0   52                 17  Vancouver          35            M       1   \n",
       "1   53                 18  Vancouver          35            M       1   \n",
       "2   54                 19  Vancouver          35            M       1   \n",
       "3   55                 20  Vancouver          35            M       1   \n",
       "4   56                 21  Vancouver          35            M       1   \n",
       "\n",
       "  BUSINESS_UNIT  Hierarchy Service_to  \n",
       "0    HEADOFFICE          2   Business  \n",
       "1    HEADOFFICE          2   Business  \n",
       "2    HEADOFFICE          2   Business  \n",
       "3    HEADOFFICE          2   Business  \n",
       "4    HEADOFFICE          2   Business  "
      ]
     },
     "execution_count": 85,
     "metadata": {},
     "output_type": "execute_result"
    }
   ],
   "source": [
    "df.head()"
   ]
  },
  {
   "cell_type": "code",
   "execution_count": 86,
   "metadata": {},
   "outputs": [
    {
     "data": {
      "image/png": "[encoded data removed]",
      "text/plain": [
       "<Figure size 720x720 with 2 Axes>"
      ]
     },
     "metadata": {
      "needs_background": "light"
     },
     "output_type": "display_data"
    }
   ],
   "source": [
    "#Looking at the co-relation map to find any highly impacting feature that may introduce bias to the model\n",
    "#get correlations of each features in dataset\n",
    "corrmat = df.corr()\n",
    "top_corr_features = corrmat.index\n",
    "plt.figure(figsize=(10,10))\n",
    "#plot heat map\n",
    "g=sns.heatmap(df[top_corr_features].corr(),annot=True,cmap=\"RdYlGn\")"
   ]
  },
  {
   "cell_type": "code",
   "execution_count": 87,
   "metadata": {},
   "outputs": [],
   "source": [
    "# Age and length of services are highly co-related and will adversely affect our model performance, hence we will remove\n",
    "# the age\n",
    "\n",
    "df = df.drop('age', axis=1)"
   ]
  },
  {
   "cell_type": "code",
   "execution_count": 88,
   "metadata": {},
   "outputs": [],
   "source": [
    "# converting the gender_short to binary form (Male:1, Female:0)\n",
    "df['gender_short'] = df['gender_short'].map({'M': 1, 'F': 0})"
   ]
  },
  {
   "cell_type": "code",
   "execution_count": 89,
   "metadata": {},
   "outputs": [],
   "source": [
    "#Creating dummy columns for the ordinal and categorical variables\n",
    "dummy_cols = ['gender_short', 'BUSINESS_UNIT', 'Service_to', 'city_name']\n",
    "df = pd.get_dummies(df, columns=dummy_cols)"
   ]
  },
  {
   "cell_type": "code",
   "execution_count": 90,
   "metadata": {},
   "outputs": [],
   "source": [
    "###########if anything has to be changed, change from here, like taking dummy variable for the gender_short, busineess_unit and \n",
    "###########service_to\n",
    "#Defining input and output variables for the model\n",
    "y = df['STATUS']\n",
    "X = df.drop('STATUS', axis=1)"
   ]
  },
  {
   "cell_type": "code",
   "execution_count": 91,
   "metadata": {},
   "outputs": [],
   "source": [
    "# Random state being signified so that we get same values in training and testing dataset\n",
    "x_train, x_test, y_train, y_test = train_test_split(X, y, test_size = 0.3, random_state=12)"
   ]
  },
  {
   "cell_type": "code",
   "execution_count": 92,
   "metadata": {},
   "outputs": [],
   "source": [
    "# Fitting in SMOTE oversampling to deal with under-representation of non-active employees\n",
    "X_smote, y_smote = SMOTE().fit_sample(x_train, y_train)"
   ]
  },
  {
   "cell_type": "code",
   "execution_count": 93,
   "metadata": {},
   "outputs": [],
   "source": [
    "#Fitting in Random Over sampling technique\n",
    "ros = RandomOverSampler(random_state=1)\n",
    "X_ros, y_ros = ros.fit_sample(x_train, y_train)"
   ]
  },
  {
   "cell_type": "code",
   "execution_count": 94,
   "metadata": {},
   "outputs": [],
   "source": [
    "# Now we will try rescale all three sampled input dataset (original, SMOTE sampled and Random oversmapled)\n",
    "from sklearn.preprocessing import StandardScaler\n",
    "sc = StandardScaler()"
   ]
  },
  {
   "cell_type": "code",
   "execution_count": 95,
   "metadata": {},
   "outputs": [],
   "source": [
    "x_train = sc.fit_transform(x_train)\n",
    "x_val = sc.transform(x_val)\n",
    "X_ros = sc.fit_transform(X_ros)\n",
    "X_smote = sc.fit_transform(X_smote)"
   ]
  },
  {
   "cell_type": "code",
   "execution_count": 106,
   "metadata": {},
   "outputs": [
    {
     "data": {
      "text/plain": [
       "KNeighborsClassifier(algorithm='auto', leaf_size=30, metric='minkowski',\n",
       "                     metric_params=None, n_jobs=None, n_neighbors=5, p=2,\n",
       "                     weights='uniform')"
      ]
     },
     "execution_count": 106,
     "metadata": {},
     "output_type": "execute_result"
    }
   ],
   "source": [
    "# Now we will start creating the models and train separately on all three sampled data and test on test data\n",
    "# We will be training 3 models each on three datasets.\n",
    "\n",
    "#random forest training with all three types of sampled data\n",
    "model1 = RandomForestClassifier(n_estimators = 100)\n",
    "model1.fit(X_smote, y_smote)\n",
    "\n",
    "model2 = RandomForestClassifier(n_estimators = 100)\n",
    "model2.fit(X_ros, y_ros)\n",
    "\n",
    "model3 = RandomForestClassifier(n_estimators = 100)\n",
    "model3.fit(x_train, y_train)\n",
    "\n",
    "#K-nearest neighbor classifier with all three types of sampled data\n",
    "model4 = KNeighborsClassifier(n_neighbors=5, weights='uniform')\n",
    "model4.fit(X_smote, y_smote)\n",
    "\n",
    "model5 = KNeighborsClassifier(n_neighbors=5, weights='uniform')\n",
    "model5.fit(X_ros, y_ros)\n",
    "\n",
    "model6 = KNeighborsClassifier(n_neighbors=5, weights='uniform')\n",
    "model6.fit(x_train, y_train)"
   ]
  },
  {
   "cell_type": "code",
   "execution_count": 107,
   "metadata": {},
   "outputs": [],
   "source": [
    "#Now we will record the prediction score for the models and then make a confusion matrix with test score\n",
    "\n",
    "Predic_1 = model1.predict(x_test)\n",
    "Predic_2 = model2.predict(x_test)\n",
    "Predic_3 = model3.predict(x_test)\n",
    "Predic_4 = model4.predict(x_test)\n",
    "Predic_5 = model5.predict(x_test)\n",
    "Predic_6 = model6.predict(x_test)\n",
    "\n",
    "#Creating the confusion metrics for accuracy for each model\n",
    "cm_1 = confusion_matrix(y_test,Predic_1)\n",
    "accuracy_1 = (cm_1[0,0]+cm_1[1,1])/len(y_test)\n",
    "\n",
    "cm_2 = confusion_matrix(y_test,Predic_2)\n",
    "accuracy_2 = (cm_2[0,0]+cm_2[1,1])/len(y_test)\n",
    "\n",
    "cm_3 = confusion_matrix(y_test,Predic_3)\n",
    "accuracy_3 = (cm_3[0,0]+cm_3[1,1])/len(y_test)\n",
    "\n",
    "cm_4 = confusion_matrix(y_test,Predic_4)\n",
    "accuracy_4 = (cm_4[0,0]+cm_4[1,1])/len(y_test)\n",
    "\n",
    "cm_5 = confusion_matrix(y_test,Predic_5)\n",
    "accuracy_5 = (cm_5[0,0]+cm_5[1,1])/len(y_test)\n",
    "\n",
    "cm_6 = confusion_matrix(y_test,Predic_6)\n",
    "accuracy_6 = (cm_6[0,0]+cm_6[1,1])/len(y_test)"
   ]
  },
  {
   "cell_type": "code",
   "execution_count": 108,
   "metadata": {},
   "outputs": [
    {
     "name": "stdout",
     "output_type": "stream",
     "text": [
      "\n",
      "For Random Forest: SMOTE sampled data:\n",
      "F1 Score: 0.9458068637541258\n",
      "Accuracy: 89.74892588614392 %\n",
      "\n",
      "For Random Forest: Random sampled data:\n",
      "F1 Score: 0.9458068637541258\n",
      "Accuracy: 95.73039742212674 %\n",
      "\n",
      "For Random Forest: Normal Training data:\n",
      "F1 Score: 0.9334914304193166\n",
      "Accuracy: 87.57384532760473 %\n",
      "\n",
      "For KNN: SMOTE sampled data:\n",
      "F1 Score: 0.8826617319385174\n",
      "Accuracy: 79.14205155746508 %\n",
      "\n",
      "For KNN: Random sampled data:\n",
      "F1 Score: 0.9401996922306123\n",
      "Accuracy: 88.78222341568205 %\n",
      "\n",
      "For KNN: Normal Training data:\n",
      "F1 Score: 0.9763215859030837\n",
      "Accuracy: 95.3813104189044 %\n"
     ]
    }
   ],
   "source": [
    "#Now, we will try calculate both F-1 score and accuracy for the models\n",
    "print(\"\\nFor Random Forest: SMOTE sampled data:\")\n",
    "print(\"F1 Score: {}\".format(f1_score(y_test,Predic_1)))\n",
    "print(\"Accuracy:\",accuracy_1*100,'%')\n",
    "\n",
    "print(\"\\nFor Random Forest: Random sampled data:\")\n",
    "print(\"F1 Score: {}\".format(f1_score(y_test,Predic_1)))\n",
    "print(\"Accuracy:\",accuracy_2*100,'%')\n",
    "\n",
    "print(\"\\nFor Random Forest: Normal Training data:\")\n",
    "print(\"F1 Score: {}\".format(f1_score(y_test,Predic_3)))\n",
    "print(\"Accuracy:\",accuracy_3*100,'%')\n",
    "\n",
    "print(\"\\nFor KNN: SMOTE sampled data:\")\n",
    "print(\"F1 Score: {}\".format(f1_score(y_test,Predic_4)))\n",
    "print(\"Accuracy:\",accuracy_4*100,'%')\n",
    "\n",
    "print(\"\\nFor KNN: Random sampled data:\")\n",
    "print(\"F1 Score: {}\".format(f1_score(y_test,Predic_5)))\n",
    "print(\"Accuracy:\",accuracy_5*100,'%')\n",
    "\n",
    "print(\"\\nFor KNN: Normal Training data:\")\n",
    "print(\"F1 Score: {}\".format(f1_score(y_test,Predic_6)))\n",
    "print(\"Accuracy:\",accuracy_6*100,'%')"
   ]
  },
  {
   "cell_type": "code",
   "execution_count": 109,
   "metadata": {},
   "outputs": [
    {
     "data": {
      "text/plain": [
       "Text(0, 0.5, 'ACCURACY')"
      ]
     },
     "execution_count": 109,
     "metadata": {},
     "output_type": "execute_result"
    },
    {
     "data": {
      "image/png": "[encoded data removed]",
      "text/plain": [
       "<Figure size 432x288 with 1 Axes>"
      ]
     },
     "metadata": {
      "needs_background": "light"
     },
     "output_type": "display_data"
    }
   ],
   "source": [
    "# Comparing the Accuracies of various models\n",
    "ACCURACY = np.vstack((accuracy_1,accuracy_2,accuracy_3,accuracy_4,accuracy_5,accuracy_6))\n",
    "number = np.array([1,2,3,4,5,6])\n",
    "fig = plt.figure()\n",
    "ax = fig.add_subplot(111)\n",
    "ax.scatter(number, ACCURACY, color = 'r', marker = 'o', linewidths = 3)\n",
    "for j in range(0,len(ACCURACY)):\n",
    "       ax.annotate('%0.3f' % (ACCURACY[j]),(number[j], ACCURACY[j]))\n",
    "\n",
    "plt.xlabel('MODELS')    \n",
    "plt.ylabel('ACCURACY')"
   ]
  }
 ],
 "metadata": {
  "kernelspec": {
   "display_name": "Python 3",
   "language": "python",
   "name": "python3"
  },
  "language_info": {
   "codemirror_mode": {
    "name": "ipython",
    "version": 3
   },
   "file_extension": ".py",
   "mimetype": "text/x-python",
   "name": "python",
   "nbconvert_exporter": "python",
   "pygments_lexer": "ipython3",
   "version": "3.7.5"
  }
 },
 "nbformat": 4,
 "nbformat_minor": 4
}
